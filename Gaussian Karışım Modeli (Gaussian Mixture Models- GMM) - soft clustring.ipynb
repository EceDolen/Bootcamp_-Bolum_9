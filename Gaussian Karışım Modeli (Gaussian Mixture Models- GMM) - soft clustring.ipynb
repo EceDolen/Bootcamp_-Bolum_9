{
 "cells": [
  {
   "cell_type": "markdown",
   "metadata": {},
   "source": [
    "# <div align = 'center'> <font color='red'> BOLUM 9\n",
    "\n",
    "#  <div align = 'center'> <font color='red'> Gaussian Karışım Modeli (Gaussian Mixture Models- GMM) - soft clustring"
   ]
  },
  {
   "cell_type": "markdown",
   "metadata": {},
   "source": [
    "## <div align = 'center'> <font color='red'> Ödev\n",
    "Bu ödevde, yine UC Irvine Machine Learning Repository'den kalp hastalığı verisi ile çalışacaksınız.\n",
    "\n",
    "Veri seti kümeleme algoritmasına geçmeden önce bazı işlemlere ihtiyaç duymaktadır.\n",
    "\n",
    "##### Değişkenleri belirleme\n",
    "  X = heartdisease_df.iloc[:, :13]\n",
    "  y = heartdisease_df.iloc[:, 13]\n",
    "\n",
    "\n",
    "##### \"?\" işareti olan değerleri 0 ile değiştirme \n",
    "  X = X.replace(to_replace='?', value=0)\n",
    "\n",
    "\n",
    "##### Hedef değişkeni 1 ve 0 olarak değiştirme? \n",
    "  y = np.where(y > 0, 0, 1)\n",
    "Burada, X sizin değişkenleriniz olacak ve y içinde etiketleri tutuyoruz. Y, 1'e eşitse, hastanın kalp hastası olduğu ve y 0'a eşit olduğunda, hastanın kalp hastalığı olmadığı sonucuna varıyoruz.\n",
    "\n",
    "Ödevi tamamlamak için aşağıdaki soruların cevabını içeren Jupyter notebook'u sisteme yükleyiniz:\n",
    "\n",
    "* 1)n_components = 2 olarak ayarlayarak kalp hastalığı verilerine GMM uygulayın. Çözümünüz için ARI ve siluet skorlarına bakın ve önceki derslerde k-means ve hiyerarşik kümeleme çözümleriyle karşılaştırın. Hangi algoritma daha iyi performans gösteriyor?\n",
    "\n",
    "* 2)Scikit-learn ile GMM uygulanırken kullanılan parametrelerden biri de covariance_type'dir. Bu parametre, kullanılacak kovaryans parametrelerinin türünü belirler. Özellikle, belirtebileceğiniz dört tür vardır:\n",
    "\n",
    "full: Bu varsayılandır. Her bileşenin kendi genel kovaryans matrisi vardır.\n",
    "tied: Tüm bileşenler aynı genel kovaryans matrisini paylaşır.\n",
    "diag: Her bir bileşenin kendi çapraz kovaryans matrisi vardır.\n",
    "spherical: Her bir bileşenin kendine ait tek bir varyansı vardır.\n",
    "Bunları deneyin. Hangisi ARI ve siluet skorları açısından daha iyi performans gösteriyor?"
   ]
  },
  {
   "cell_type": "code",
   "execution_count": 1,
   "metadata": {},
   "outputs": [],
   "source": [
    "import numpy as np\n",
    "import pandas as pd\n",
    "import matplotlib.pyplot as plt\n",
    "\n",
    "from matplotlib.patches import Ellipse\n",
    "\n",
    "from sklearn.preprocessing import StandardScaler\n",
    "\n",
    "from sklearn.mixture import GaussianMixture\n",
    "\n",
    "from sklearn.decomposition import PCA\n",
    "\n",
    "from sklearn import metrics"
   ]
  },
  {
   "cell_type": "code",
   "execution_count": 2,
   "metadata": {},
   "outputs": [],
   "source": [
    "import warnings\n",
    "warnings.filterwarnings('ignore')"
   ]
  },
  {
   "cell_type": "code",
   "execution_count": 3,
   "metadata": {},
   "outputs": [],
   "source": [
    "heart = pd.read_csv('data/heart.csv')"
   ]
  },
  {
   "cell_type": "code",
   "execution_count": 4,
   "metadata": {},
   "outputs": [],
   "source": [
    "X = heart.drop('target', axis=1)\n",
    "y = heart.target"
   ]
  },
  {
   "cell_type": "code",
   "execution_count": 5,
   "metadata": {},
   "outputs": [],
   "source": [
    "scaler = StandardScaler()\n",
    "X_std = scaler.fit_transform(X)"
   ]
  },
  {
   "cell_type": "code",
   "execution_count": 6,
   "metadata": {},
   "outputs": [],
   "source": [
    "gmm_cluster = GaussianMixture(n_components=2, random_state=40)"
   ]
  },
  {
   "cell_type": "code",
   "execution_count": 7,
   "metadata": {},
   "outputs": [],
   "source": [
    "clusters = gmm_cluster.fit_predict(X_std)"
   ]
  },
  {
   "cell_type": "code",
   "execution_count": 8,
   "metadata": {},
   "outputs": [],
   "source": [
    "#pca = PCA(n_components=2).fit_transform(X_std)\n"
   ]
  },
  {
   "cell_type": "code",
   "execution_count": 9,
   "metadata": {},
   "outputs": [
    {
     "name": "stdout",
     "output_type": "stream",
     "text": [
      "GMM çözümünün Düzeltilmiş Rand Endeksi (ARI): 0.266\n",
      "GMM çözümünün siluet skoru                  : 0.106\n"
     ]
    }
   ],
   "source": [
    "print(\"GMM çözümünün Düzeltilmiş Rand Endeksi (ARI): {:.3f}\"\n",
    "      .format(metrics.adjusted_rand_score(y, clusters)))\n",
    "print(\"GMM çözümünün siluet skoru                  : {:.3f}\"\n",
    "      .format(metrics.silhouette_score(X_std, clusters, metric='euclidean')))"
   ]
  },
  {
   "cell_type": "markdown",
   "metadata": {},
   "source": [
    "covariance_types\n",
    "* full: Bu varsayılandır. Her bileşenin kendi genel kovaryans matrisi vardır.\n",
    "* tied: Tüm bileşenler aynı genel kovaryans matrisini paylaşır.\n",
    "* diag: Her bir bileşenin kendi çapraz kovaryans matrisi vardır.\n",
    "* spherical: Her bir bileşenin kendine ait tek bir varyansı vardır."
   ]
  },
  {
   "cell_type": "code",
   "execution_count": 10,
   "metadata": {},
   "outputs": [
    {
     "name": "stdout",
     "output_type": "stream",
     "text": [
      "GMM çözümünün Düzeltilmiş Rand Endeksi (ARI): 0.190\n",
      "GMM çözümünün siluet skoru                  : 0.135\n"
     ]
    }
   ],
   "source": [
    "gmm_cluster = GaussianMixture(n_components=2, random_state=40,covariance_type='tied' )\n",
    "clusters = gmm_cluster.fit_predict(X_std)\n",
    "\n",
    "print(\"GMM çözümünün Düzeltilmiş Rand Endeksi (ARI): {:.3f}\"\n",
    "      .format(metrics.adjusted_rand_score(y, clusters)))\n",
    "print(\"GMM çözümünün siluet skoru                  : {:.3f}\"\n",
    "      .format(metrics.silhouette_score(X_std, clusters, metric='euclidean')))"
   ]
  },
  {
   "cell_type": "code",
   "execution_count": 11,
   "metadata": {},
   "outputs": [
    {
     "name": "stdout",
     "output_type": "stream",
     "text": [
      "GMM çözümünün Düzeltilmiş Rand Endeksi (ARI): 0.190\n",
      "GMM çözümünün siluet skoru                  : 0.135\n"
     ]
    }
   ],
   "source": [
    "gmm_cluster = GaussianMixture(n_components=2, random_state=40,covariance_type='diag' )\n",
    "clusters = gmm_cluster.fit_predict(X_std)\n",
    "\n",
    "print(\"GMM çözümünün Düzeltilmiş Rand Endeksi (ARI): {:.3f}\"\n",
    "      .format(metrics.adjusted_rand_score(y, clusters)))\n",
    "print(\"GMM çözümünün siluet skoru                  : {:.3f}\"\n",
    "      .format(metrics.silhouette_score(X_std, clusters, metric='euclidean')))"
   ]
  },
  {
   "cell_type": "code",
   "execution_count": 12,
   "metadata": {},
   "outputs": [
    {
     "name": "stdout",
     "output_type": "stream",
     "text": [
      "GMM çözümünün Düzeltilmiş Rand Endeksi (ARI): 0.178\n",
      "GMM çözümünün siluet skoru                  : 0.107\n"
     ]
    }
   ],
   "source": [
    "gmm_cluster = GaussianMixture(n_components=2, random_state=40,covariance_type='spherical' )\n",
    "clusters = gmm_cluster.fit_predict(X_std)\n",
    "\n",
    "print(\"GMM çözümünün Düzeltilmiş Rand Endeksi (ARI): {:.3f}\"\n",
    "      .format(metrics.adjusted_rand_score(y, clusters)))\n",
    "print(\"GMM çözümünün siluet skoru                  : {:.3f}\"\n",
    "      .format(metrics.silhouette_score(X_std, clusters, metric='euclidean')))"
   ]
  },
  {
   "cell_type": "code",
   "execution_count": null,
   "metadata": {},
   "outputs": [],
   "source": []
  }
 ],
 "metadata": {
  "kernelspec": {
   "display_name": "Python 3",
   "language": "python",
   "name": "python3"
  },
  "language_info": {
   "codemirror_mode": {
    "name": "ipython",
    "version": 3
   },
   "file_extension": ".py",
   "mimetype": "text/x-python",
   "name": "python",
   "nbconvert_exporter": "python",
   "pygments_lexer": "ipython3",
   "version": "3.7.1"
  }
 },
 "nbformat": 4,
 "nbformat_minor": 2
}
